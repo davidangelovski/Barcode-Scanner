{
 "nbformat": 4,
 "nbformat_minor": 0,
 "metadata": {
  "colab": {
   "provenance": []
  },
  "kernelspec": {
   "name": "python3",
   "display_name": "Python 3"
  },
  "language_info": {
   "name": "python"
  }
 },
 "cells": [
  {
   "cell_type": "code",
   "execution_count": null,
   "metadata": {
    "id": "BpChK0pgweAu"
   },
   "outputs": [],
   "source": [
    "Data_path=\"/content/drive/MyDrive/BarcodeData/partial_valid\""
   ]
  },
  {
   "cell_type": "code",
   "source": [
    "from glob import glob\n",
    "import xml.etree.ElementTree as ET\n",
    "import os\n",
    "import cv2\n",
    "import numpy as np\n",
    "from keras.applications import ResNet50\n",
    "from keras.layers import Dense, Flatten, GlobalAveragePooling2D, Dropout, BatchNormalization\n",
    "from keras.models import Sequential, load_model\n",
    "from keras.optimizers import Adam\n",
    "from keras.losses import Huber\n",
    "from sklearn.model_selection import train_test_split"
   ],
   "metadata": {
    "id": "qSbPhjEkE1SU"
   },
   "execution_count": null,
   "outputs": []
  },
  {
   "cell_type": "code",
   "source": [
    "\n",
    "images = []\n",
    "annotations = []\n",
    "original_images = []\n",
    "\n",
    "\n",
    "image_paths = glob(os.path.join(Data_path, '*.jpg'))  \n",
    "\n",
    "for img_path in image_paths:\n",
    "    \n",
    "    annotation_path = img_path.replace('.jpg', '.xml')\n",
    "\n",
    "\n",
    "    image = cv2.imread(img_path)\n",
    "    original_images.append(image)\n",
    "\n",
    "  \n",
    "    try:\n",
    "        xml = ET.parse(annotation_path)\n",
    "        root = xml.getroot()\n",
    "\n",
    "      \n",
    "        obj = root.find('object')\n",
    "        if obj is not None:\n",
    "            info = obj.find('bndbox')\n",
    "            xmin = int(info.find('xmin').text)\n",
    "            ymin = int(info.find('ymin').text)\n",
    "            xmax = int(info.find('xmax').text)\n",
    "            ymax = int(info.find('ymax').text)\n",
    "\n",
    "          \n",
    "            shape = image.shape\n",
    "            xmin = xmin / shape[1]\n",
    "            xmax = xmax / shape[1]\n",
    "            ymin = ymin / shape[0]\n",
    "            ymax = ymax / shape[0]\n",
    "\n",
    "          \n",
    "            image_resized = cv2.resize(image, (224, 224)) \n",
    "\n",
    "          \n",
    "            images.append(image_resized)\n",
    "            annotations.append((xmin, ymin, xmax, ymax))\n",
    "        else:\n",
    "            print(f\"No object found in annotation for image: {img_path}\")\n",
    "    except FileNotFoundError:\n",
    "        print(f\"Annotation file not found for image: {img_path}\")\n",
    "    except ET.ParseError:\n",
    "        print(f\"Error parsing XML annotation for image: {img_path}\")\n",
    "\n",
    "\n",
    "images = np.array(images) / 255.0\n",
    "annotations = np.array(annotations)\n",
    "\n",
    "print(f\"Loaded {len(images)} images and corresponding annotations.\")\n",
    "\n"
   ],
   "metadata": {
    "colab": {
     "base_uri": "https://localhost:8080/"
    },
    "id": "hwV09fnfFlwj",
    "outputId": "42ae347c-7611-419b-f2ce-bb98d5b17da6"
   },
   "execution_count": null,
   "outputs": [
    {
     "output_type": "stream",
     "name": "stdout",
     "text": [
      "No object found in annotation for image: /content/drive/MyDrive/BarcodeData/partial_valid/939_qr_jpg.rf.744aa5044d66f87c2d71850c1088c528.jpg\n",
      "No object found in annotation for image: /content/drive/MyDrive/BarcodeData/partial_valid/112_jpg.rf.820b5620604aca6f1984b154cc04572a.jpg\n",
      "No object found in annotation for image: /content/drive/MyDrive/BarcodeData/partial_valid/1088_qr_jpg.rf.cb93485a9945d9b93cc899c926d7a668.jpg\n",
      "No object found in annotation for image: /content/drive/MyDrive/BarcodeData/partial_valid/222_qr_jpg.rf.bbf2b92fd4110ba463374efc35ebc04c.jpg\n",
      "No object found in annotation for image: /content/drive/MyDrive/BarcodeData/partial_valid/226_qr_jpg.rf.e6ae4a79643151bc09187735597949e8.jpg\n",
      "No object found in annotation for image: /content/drive/MyDrive/BarcodeData/partial_valid/1093_qr_jpg.rf.be84c60052d8431db9b020d2d9a3ebbf.jpg\n",
      "No object found in annotation for image: /content/drive/MyDrive/BarcodeData/partial_valid/807_qr_jpg.rf.d0972ef841b4914868f7a0220ce5ea2d.jpg\n",
      "No object found in annotation for image: /content/drive/MyDrive/BarcodeData/partial_valid/955_qr_jpg.rf.d23116d90a73113d5f27d9b50d705cbe.jpg\n",
      "No object found in annotation for image: /content/drive/MyDrive/BarcodeData/partial_valid/378_qr_jpg.rf.df35b8f61c5ee881db09c69aa3c58e95.jpg\n",
      "No object found in annotation for image: /content/drive/MyDrive/BarcodeData/partial_valid/236_qr_jpg.rf.b6401484c5dbec164e936aaea2c9d0e8.jpg\n",
      "No object found in annotation for image: /content/drive/MyDrive/BarcodeData/partial_valid/792_qr_jpg.rf.e738520dc2c3bb21b69abd59ebc827f5.jpg\n",
      "No object found in annotation for image: /content/drive/MyDrive/BarcodeData/partial_valid/70_qr_jpg.rf.c88afe30a1d160ef6b9d2d3a492aa2cc.jpg\n",
      "No object found in annotation for image: /content/drive/MyDrive/BarcodeData/partial_valid/406_qr_jpg.rf.bc2d963cac4bd389aa81fe4b2784e223.jpg\n",
      "No object found in annotation for image: /content/drive/MyDrive/BarcodeData/partial_valid/69_qr_jpg.rf.ce714a2130ad4f50115478dbc1ced554.jpg\n",
      "No object found in annotation for image: /content/drive/MyDrive/BarcodeData/partial_valid/225_qr_jpg.rf.c191795cece090df92a83b704d896911.jpg\n",
      "No object found in annotation for image: /content/drive/MyDrive/BarcodeData/partial_valid/787_qr_jpg.rf.b52ee463cd49070c1ade263d831b71a9.jpg\n",
      "No object found in annotation for image: /content/drive/MyDrive/BarcodeData/partial_valid/659_qr_jpg.rf.d1a99aa41cd0f92da4161149510c532a.jpg\n",
      "No object found in annotation for image: /content/drive/MyDrive/BarcodeData/partial_valid/211_qr_jpg.rf.c010140577e49d08c87526c0e9d43651.jpg\n",
      "No object found in annotation for image: /content/drive/MyDrive/BarcodeData/partial_valid/400_qr_jpg.rf.c83bd6f42eacf9299f3eed04cf5675ed.jpg\n",
      "No object found in annotation for image: /content/drive/MyDrive/BarcodeData/partial_valid/956_qr_jpg.rf.f57f570896fecdd1c0370fdd0ced7fce.jpg\n",
      "No object found in annotation for image: /content/drive/MyDrive/BarcodeData/partial_valid/935_qr_jpg.rf.ee244b0eb1d50f8f652882ab3e572749.jpg\n",
      "No object found in annotation for image: /content/drive/MyDrive/BarcodeData/partial_valid/398_qr_jpg.rf.ea8aa11f56bf0ed58a0b5aa5b6704041.jpg\n",
      "No object found in annotation for image: /content/drive/MyDrive/BarcodeData/partial_valid/390_qr_jpg.rf.17c9cf7a81f15a700a06d53a26153a99.jpg\n",
      "No object found in annotation for image: /content/drive/MyDrive/BarcodeData/partial_valid/75_qr_jpg.rf.12d46381e5c2a1ef83812ae6b8043dc6.jpg\n",
      "No object found in annotation for image: /content/drive/MyDrive/BarcodeData/partial_valid/66_qr_jpg.rf.27f26bd3199237c621a2eddb641e2d6c.jpg\n",
      "No object found in annotation for image: /content/drive/MyDrive/BarcodeData/partial_valid/527_qr_jpg.rf.132c34748dfd4a1bdcbfce613dcced0b.jpg\n",
      "No object found in annotation for image: /content/drive/MyDrive/BarcodeData/partial_valid/521_qr_jpg.rf.191ddb64855419df8f8bedb71f3688fa.jpg\n",
      "No object found in annotation for image: /content/drive/MyDrive/BarcodeData/partial_valid/535_qr_jpg.rf.0e56a7455efe6b0c324b57a55595b3b3.jpg\n",
      "Annotation file not found for image: /content/drive/MyDrive/BarcodeData/partial_valid/06102009252_jpg.rf.27f9ae2373bc170d7d2d991267154dfa (1).jpg\n",
      "No object found in annotation for image: /content/drive/MyDrive/BarcodeData/partial_valid/377_qr_jpg.rf.2c120b17a74bfb6d9c41ba061bc83957.jpg\n",
      "No object found in annotation for image: /content/drive/MyDrive/BarcodeData/partial_valid/1204_qr_jpg.rf.0b989d64cdcd77a0d893acd32c80615e (1).jpg\n",
      "No object found in annotation for image: /content/drive/MyDrive/BarcodeData/partial_valid/212_qr_jpg.rf.27001b082beb20f33c1b20701fc38e1b.jpg\n",
      "No object found in annotation for image: /content/drive/MyDrive/BarcodeData/partial_valid/1204_qr_jpg.rf.0b989d64cdcd77a0d893acd32c80615e.jpg\n",
      "No object found in annotation for image: /content/drive/MyDrive/BarcodeData/partial_valid/541_qr_jpg.rf.1569baab97652194ba0c4119404a810b.jpg\n",
      "No object found in annotation for image: /content/drive/MyDrive/BarcodeData/partial_valid/957_qr_jpg.rf.4e5ef1eb088fec877076c7573a6fce60.jpg\n",
      "No object found in annotation for image: /content/drive/MyDrive/BarcodeData/partial_valid/388_qr_jpg.rf.595b405cbb0b8b9c147ad1fde665ec7e.jpg\n",
      "No object found in annotation for image: /content/drive/MyDrive/BarcodeData/partial_valid/1077_qr_jpg.rf.582d82402bf6248c6c9dc22e43c0704f.jpg\n",
      "No object found in annotation for image: /content/drive/MyDrive/BarcodeData/partial_valid/1193_qr_jpg.rf.5c014d3eef967e84a1a5cbe70ef28cd5 (1).jpg\n",
      "No object found in annotation for image: /content/drive/MyDrive/BarcodeData/partial_valid/111_jpg.rf.4e3765019b5d3c6ab82c741c3d4c6472.jpg\n",
      "No object found in annotation for image: /content/drive/MyDrive/BarcodeData/partial_valid/221_qr_jpg.rf.3e2f411437ac1e3f19b2d148b897c50a.jpg\n",
      "No object found in annotation for image: /content/drive/MyDrive/BarcodeData/partial_valid/1069_qr_jpg.rf.5ec2c96a2772d9d935df4ef438f69ab1.jpg\n",
      "No object found in annotation for image: /content/drive/MyDrive/BarcodeData/partial_valid/60_qr_jpg.rf.4f186bc3632659b0ffb066531d0dca30.jpg\n",
      "No object found in annotation for image: /content/drive/MyDrive/BarcodeData/partial_valid/1191_qr_jpg.rf.632361b76f86659aa0c61b528a9e0601 (1).jpg\n",
      "No object found in annotation for image: /content/drive/MyDrive/BarcodeData/partial_valid/1085_qr_jpg.rf.7124238e9791ac63ed1f5165fee10488.jpg\n",
      "No object found in annotation for image: /content/drive/MyDrive/BarcodeData/partial_valid/1193_qr_jpg.rf.5c014d3eef967e84a1a5cbe70ef28cd5.jpg\n",
      "No object found in annotation for image: /content/drive/MyDrive/BarcodeData/partial_valid/1191_qr_jpg.rf.632361b76f86659aa0c61b528a9e0601.jpg\n",
      "No object found in annotation for image: /content/drive/MyDrive/BarcodeData/partial_valid/220_qr_jpg.rf.ae07653ce0ce6df9d9ac29940934739c.jpg\n",
      "No object found in annotation for image: /content/drive/MyDrive/BarcodeData/partial_valid/790_qr_jpg.rf.83fe1c45e2669a5560747ba31902a800.jpg\n",
      "No object found in annotation for image: /content/drive/MyDrive/BarcodeData/partial_valid/806_qr_jpg.rf.8a47ff76e5edab42ba7feec7c4099cc5.jpg\n",
      "No object found in annotation for image: /content/drive/MyDrive/BarcodeData/partial_valid/238_qr_jpg.rf.99648260a8a37b2f2ae51dcde53db745.jpg\n",
      "Loaded 632 images and corresponding annotations.\n"
     ]
    }
   ]
  },
  {
   "cell_type": "code",
   "source": [
    "x_train, x_test, y_train, y_test = train_test_split(images, annotations, test_size=0.2, random_state=42)\n",
    "x_test, x_val, y_test, y_val = train_test_split(x_test, y_test, test_size=0.5, random_state=42)\n",
    "original_x_train, original_x_test, _, _ = train_test_split(original_images[:len(annotations)], annotations, test_size=0.2, random_state=42)\n",
    "original_x_test, original_x_val, _, _ = train_test_split(original_x_test, original_x_test, test_size=0.5, random_state=42)"
   ],
   "metadata": {
    "id": "U3r2sPQNGB8b"
   },
   "execution_count": null,
   "outputs": []
  },
  {
   "cell_type": "code",
   "source": [
    "model = Sequential()\n",
    "model.add(ResNet50(weights='imagenet', include_top=False, input_shape=(224, 224, 3)))\n",
    "model.add(GlobalAveragePooling2D())\n",
    "model.add(Dense(1024, activation='relu'))\n",
    "model.add(Dropout(0.3))\n",
    "model.add(Dense(4, activation='sigmoid'))\n",
    "\n",
    "model.layers[0].trainable = False\n",
    "\n",
    "model.summary()"
   ],
   "metadata": {
    "colab": {
     "base_uri": "https://localhost:8080/",
     "height": 309
    },
    "id": "64rJQlnyGcMU",
    "outputId": "7755d35a-9e73-4fb4-d99d-bd419fba1ddc"
   },
   "execution_count": null,
   "outputs": [
    {
     "output_type": "display_data",
     "data": {
      "text/plain": [
       "\u001B[1mModel: \"sequential_2\"\u001B[0m\n"
      ],
      "text/html": [
       "<pre style=\"white-space:pre;overflow-x:auto;line-height:normal;font-family:Menlo,'DejaVu Sans Mono',consolas,'Courier New',monospace\"><span style=\"font-weight: bold\">Model: \"sequential_2\"</span>\n",
       "</pre>\n"
      ]
     },
     "metadata": {}
    },
    {
     "output_type": "display_data",
     "data": {
      "text/plain": [
       "┏━━━━━━━━━━━━━━━━━━━━━━━━━━━━━━━━━━━━━━┳━━━━━━━━━━━━━━━━━━━━━━━━━━━━━┳━━━━━━━━━━━━━━━━━┓\n",
       "┃\u001B[1m \u001B[0m\u001B[1mLayer (type)                        \u001B[0m\u001B[1m \u001B[0m┃\u001B[1m \u001B[0m\u001B[1mOutput Shape               \u001B[0m\u001B[1m \u001B[0m┃\u001B[1m \u001B[0m\u001B[1m        Param #\u001B[0m\u001B[1m \u001B[0m┃\n",
       "┡━━━━━━━━━━━━━━━━━━━━━━━━━━━━━━━━━━━━━━╇━━━━━━━━━━━━━━━━━━━━━━━━━━━━━╇━━━━━━━━━━━━━━━━━┩\n",
       "│ resnet50 (\u001B[38;5;33mFunctional\u001B[0m)                │ (\u001B[38;5;45mNone\u001B[0m, \u001B[38;5;34m7\u001B[0m, \u001B[38;5;34m7\u001B[0m, \u001B[38;5;34m2048\u001B[0m)          │      \u001B[38;5;34m23,587,712\u001B[0m │\n",
       "├──────────────────────────────────────┼─────────────────────────────┼─────────────────┤\n",
       "│ global_average_pooling2d_2           │ (\u001B[38;5;45mNone\u001B[0m, \u001B[38;5;34m2048\u001B[0m)                │               \u001B[38;5;34m0\u001B[0m │\n",
       "│ (\u001B[38;5;33mGlobalAveragePooling2D\u001B[0m)             │                             │                 │\n",
       "├──────────────────────────────────────┼─────────────────────────────┼─────────────────┤\n",
       "│ dense_3 (\u001B[38;5;33mDense\u001B[0m)                      │ (\u001B[38;5;45mNone\u001B[0m, \u001B[38;5;34m1024\u001B[0m)                │       \u001B[38;5;34m2,098,176\u001B[0m │\n",
       "├──────────────────────────────────────┼─────────────────────────────┼─────────────────┤\n",
       "│ dropout_1 (\u001B[38;5;33mDropout\u001B[0m)                  │ (\u001B[38;5;45mNone\u001B[0m, \u001B[38;5;34m1024\u001B[0m)                │               \u001B[38;5;34m0\u001B[0m │\n",
       "├──────────────────────────────────────┼─────────────────────────────┼─────────────────┤\n",
       "│ dense_4 (\u001B[38;5;33mDense\u001B[0m)                      │ (\u001B[38;5;45mNone\u001B[0m, \u001B[38;5;34m4\u001B[0m)                   │           \u001B[38;5;34m4,100\u001B[0m │\n",
       "└──────────────────────────────────────┴─────────────────────────────┴─────────────────┘\n"
      ],
      "text/html": [
       "<pre style=\"white-space:pre;overflow-x:auto;line-height:normal;font-family:Menlo,'DejaVu Sans Mono',consolas,'Courier New',monospace\">┏━━━━━━━━━━━━━━━━━━━━━━━━━━━━━━━━━━━━━━┳━━━━━━━━━━━━━━━━━━━━━━━━━━━━━┳━━━━━━━━━━━━━━━━━┓\n",
       "┃<span style=\"font-weight: bold\"> Layer (type)                         </span>┃<span style=\"font-weight: bold\"> Output Shape                </span>┃<span style=\"font-weight: bold\">         Param # </span>┃\n",
       "┡━━━━━━━━━━━━━━━━━━━━━━━━━━━━━━━━━━━━━━╇━━━━━━━━━━━━━━━━━━━━━━━━━━━━━╇━━━━━━━━━━━━━━━━━┩\n",
       "│ resnet50 (<span style=\"color: #0087ff; text-decoration-color: #0087ff\">Functional</span>)                │ (<span style=\"color: #00d7ff; text-decoration-color: #00d7ff\">None</span>, <span style=\"color: #00af00; text-decoration-color: #00af00\">7</span>, <span style=\"color: #00af00; text-decoration-color: #00af00\">7</span>, <span style=\"color: #00af00; text-decoration-color: #00af00\">2048</span>)          │      <span style=\"color: #00af00; text-decoration-color: #00af00\">23,587,712</span> │\n",
       "├──────────────────────────────────────┼─────────────────────────────┼─────────────────┤\n",
       "│ global_average_pooling2d_2           │ (<span style=\"color: #00d7ff; text-decoration-color: #00d7ff\">None</span>, <span style=\"color: #00af00; text-decoration-color: #00af00\">2048</span>)                │               <span style=\"color: #00af00; text-decoration-color: #00af00\">0</span> │\n",
       "│ (<span style=\"color: #0087ff; text-decoration-color: #0087ff\">GlobalAveragePooling2D</span>)             │                             │                 │\n",
       "├──────────────────────────────────────┼─────────────────────────────┼─────────────────┤\n",
       "│ dense_3 (<span style=\"color: #0087ff; text-decoration-color: #0087ff\">Dense</span>)                      │ (<span style=\"color: #00d7ff; text-decoration-color: #00d7ff\">None</span>, <span style=\"color: #00af00; text-decoration-color: #00af00\">1024</span>)                │       <span style=\"color: #00af00; text-decoration-color: #00af00\">2,098,176</span> │\n",
       "├──────────────────────────────────────┼─────────────────────────────┼─────────────────┤\n",
       "│ dropout_1 (<span style=\"color: #0087ff; text-decoration-color: #0087ff\">Dropout</span>)                  │ (<span style=\"color: #00d7ff; text-decoration-color: #00d7ff\">None</span>, <span style=\"color: #00af00; text-decoration-color: #00af00\">1024</span>)                │               <span style=\"color: #00af00; text-decoration-color: #00af00\">0</span> │\n",
       "├──────────────────────────────────────┼─────────────────────────────┼─────────────────┤\n",
       "│ dense_4 (<span style=\"color: #0087ff; text-decoration-color: #0087ff\">Dense</span>)                      │ (<span style=\"color: #00d7ff; text-decoration-color: #00d7ff\">None</span>, <span style=\"color: #00af00; text-decoration-color: #00af00\">4</span>)                   │           <span style=\"color: #00af00; text-decoration-color: #00af00\">4,100</span> │\n",
       "└──────────────────────────────────────┴─────────────────────────────┴─────────────────┘\n",
       "</pre>\n"
      ]
     },
     "metadata": {}
    },
    {
     "output_type": "display_data",
     "data": {
      "text/plain": [
       "\u001B[1m Total params: \u001B[0m\u001B[38;5;34m25,689,988\u001B[0m (98.00 MB)\n"
      ],
      "text/html": [
       "<pre style=\"white-space:pre;overflow-x:auto;line-height:normal;font-family:Menlo,'DejaVu Sans Mono',consolas,'Courier New',monospace\"><span style=\"font-weight: bold\"> Total params: </span><span style=\"color: #00af00; text-decoration-color: #00af00\">25,689,988</span> (98.00 MB)\n",
       "</pre>\n"
      ]
     },
     "metadata": {}
    },
    {
     "output_type": "display_data",
     "data": {
      "text/plain": [
       "\u001B[1m Trainable params: \u001B[0m\u001B[38;5;34m2,102,276\u001B[0m (8.02 MB)\n"
      ],
      "text/html": [
       "<pre style=\"white-space:pre;overflow-x:auto;line-height:normal;font-family:Menlo,'DejaVu Sans Mono',consolas,'Courier New',monospace\"><span style=\"font-weight: bold\"> Trainable params: </span><span style=\"color: #00af00; text-decoration-color: #00af00\">2,102,276</span> (8.02 MB)\n",
       "</pre>\n"
      ]
     },
     "metadata": {}
    },
    {
     "output_type": "display_data",
     "data": {
      "text/plain": [
       "\u001B[1m Non-trainable params: \u001B[0m\u001B[38;5;34m23,587,712\u001B[0m (89.98 MB)\n"
      ],
      "text/html": [
       "<pre style=\"white-space:pre;overflow-x:auto;line-height:normal;font-family:Menlo,'DejaVu Sans Mono',consolas,'Courier New',monospace\"><span style=\"font-weight: bold\"> Non-trainable params: </span><span style=\"color: #00af00; text-decoration-color: #00af00\">23,587,712</span> (89.98 MB)\n",
       "</pre>\n"
      ]
     },
     "metadata": {}
    }
   ]
  },
  {
   "cell_type": "code",
   "source": [
    "model.compile(optimizer='adam', loss=Huber(delta=1.0))\n",
    "history = model.fit(np.array(x_train), np.array(y_train), validation_data=(np.array(x_val), np.array(y_val)), epochs=50)"
   ],
   "metadata": {
    "colab": {
     "base_uri": "https://localhost:8080/"
    },
    "id": "nDY63AhHGcsL",
    "outputId": "90aed187-d1c6-4ee0-8855-2c6c824a9e19"
   },
   "execution_count": null,
   "outputs": [
    {
     "output_type": "stream",
     "name": "stdout",
     "text": [
      "Epoch 1/50\n",
      "\u001B[1m16/16\u001B[0m \u001B[32m━━━━━━━━━━━━━━━━━━━━\u001B[0m\u001B[37m\u001B[0m \u001B[1m127s\u001B[0m 7s/step - loss: 0.0383 - val_loss: 0.0185\n",
      "Epoch 2/50\n",
      "\u001B[1m16/16\u001B[0m \u001B[32m━━━━━━━━━━━━━━━━━━━━\u001B[0m\u001B[37m\u001B[0m \u001B[1m132s\u001B[0m 7s/step - loss: 0.0262 - val_loss: 0.0184\n",
      "Epoch 3/50\n",
      "\u001B[1m16/16\u001B[0m \u001B[32m━━━━━━━━━━━━━━━━━━━━\u001B[0m\u001B[37m\u001B[0m \u001B[1m129s\u001B[0m 6s/step - loss: 0.0230 - val_loss: 0.0074\n",
      "Epoch 4/50\n",
      "\u001B[1m16/16\u001B[0m \u001B[32m━━━━━━━━━━━━━━━━━━━━\u001B[0m\u001B[37m\u001B[0m \u001B[1m142s\u001B[0m 6s/step - loss: 0.0110 - val_loss: 0.0070\n",
      "Epoch 5/50\n",
      "\u001B[1m16/16\u001B[0m \u001B[32m━━━━━━━━━━━━━━━━━━━━\u001B[0m\u001B[37m\u001B[0m \u001B[1m154s\u001B[0m 7s/step - loss: 0.0101 - val_loss: 0.0065\n",
      "Epoch 6/50\n",
      "\u001B[1m16/16\u001B[0m \u001B[32m━━━━━━━━━━━━━━━━━━━━\u001B[0m\u001B[37m\u001B[0m \u001B[1m131s\u001B[0m 6s/step - loss: 0.0095 - val_loss: 0.0067\n",
      "Epoch 7/50\n",
      "\u001B[1m16/16\u001B[0m \u001B[32m━━━━━━━━━━━━━━━━━━━━\u001B[0m\u001B[37m\u001B[0m \u001B[1m100s\u001B[0m 6s/step - loss: 0.0084 - val_loss: 0.0066\n",
      "Epoch 8/50\n",
      "\u001B[1m16/16\u001B[0m \u001B[32m━━━━━━━━━━━━━━━━━━━━\u001B[0m\u001B[37m\u001B[0m \u001B[1m139s\u001B[0m 6s/step - loss: 0.0086 - val_loss: 0.0061\n",
      "Epoch 9/50\n",
      "\u001B[1m16/16\u001B[0m \u001B[32m━━━━━━━━━━━━━━━━━━━━\u001B[0m\u001B[37m\u001B[0m \u001B[1m152s\u001B[0m 7s/step - loss: 0.0078 - val_loss: 0.0057\n",
      "Epoch 10/50\n",
      "\u001B[1m16/16\u001B[0m \u001B[32m━━━━━━━━━━━━━━━━━━━━\u001B[0m\u001B[37m\u001B[0m \u001B[1m133s\u001B[0m 6s/step - loss: 0.0082 - val_loss: 0.0066\n",
      "Epoch 11/50\n",
      "\u001B[1m16/16\u001B[0m \u001B[32m━━━━━━━━━━━━━━━━━━━━\u001B[0m\u001B[37m\u001B[0m \u001B[1m149s\u001B[0m 7s/step - loss: 0.0081 - val_loss: 0.0065\n",
      "Epoch 12/50\n",
      "\u001B[1m16/16\u001B[0m \u001B[32m━━━━━━━━━━━━━━━━━━━━\u001B[0m\u001B[37m\u001B[0m \u001B[1m143s\u001B[0m 7s/step - loss: 0.0090 - val_loss: 0.0061\n",
      "Epoch 13/50\n",
      "\u001B[1m16/16\u001B[0m \u001B[32m━━━━━━━━━━━━━━━━━━━━\u001B[0m\u001B[37m\u001B[0m \u001B[1m136s\u001B[0m 6s/step - loss: 0.0078 - val_loss: 0.0059\n",
      "Epoch 14/50\n",
      "\u001B[1m16/16\u001B[0m \u001B[32m━━━━━━━━━━━━━━━━━━━━\u001B[0m\u001B[37m\u001B[0m \u001B[1m147s\u001B[0m 7s/step - loss: 0.0072 - val_loss: 0.0053\n",
      "Epoch 15/50\n",
      "\u001B[1m16/16\u001B[0m \u001B[32m━━━━━━━━━━━━━━━━━━━━\u001B[0m\u001B[37m\u001B[0m \u001B[1m144s\u001B[0m 7s/step - loss: 0.0071 - val_loss: 0.0054\n",
      "Epoch 16/50\n",
      "\u001B[1m16/16\u001B[0m \u001B[32m━━━━━━━━━━━━━━━━━━━━\u001B[0m\u001B[37m\u001B[0m \u001B[1m134s\u001B[0m 6s/step - loss: 0.0074 - val_loss: 0.0054\n",
      "Epoch 17/50\n",
      "\u001B[1m16/16\u001B[0m \u001B[32m━━━━━━━━━━━━━━━━━━━━\u001B[0m\u001B[37m\u001B[0m \u001B[1m149s\u001B[0m 7s/step - loss: 0.0071 - val_loss: 0.0052\n",
      "Epoch 18/50\n",
      "\u001B[1m16/16\u001B[0m \u001B[32m━━━━━━━━━━━━━━━━━━━━\u001B[0m\u001B[37m\u001B[0m \u001B[1m142s\u001B[0m 7s/step - loss: 0.0072 - val_loss: 0.0053\n",
      "Epoch 19/50\n",
      "\u001B[1m16/16\u001B[0m \u001B[32m━━━━━━━━━━━━━━━━━━━━\u001B[0m\u001B[37m\u001B[0m \u001B[1m145s\u001B[0m 7s/step - loss: 0.0070 - val_loss: 0.0055\n",
      "Epoch 20/50\n",
      "\u001B[1m16/16\u001B[0m \u001B[32m━━━━━━━━━━━━━━━━━━━━\u001B[0m\u001B[37m\u001B[0m \u001B[1m132s\u001B[0m 6s/step - loss: 0.0076 - val_loss: 0.0053\n",
      "Epoch 21/50\n",
      "\u001B[1m16/16\u001B[0m \u001B[32m━━━━━━━━━━━━━━━━━━━━\u001B[0m\u001B[37m\u001B[0m \u001B[1m149s\u001B[0m 7s/step - loss: 0.0083 - val_loss: 0.0051\n",
      "Epoch 22/50\n",
      "\u001B[1m16/16\u001B[0m \u001B[32m━━━━━━━━━━━━━━━━━━━━\u001B[0m\u001B[37m\u001B[0m \u001B[1m136s\u001B[0m 6s/step - loss: 0.0070 - val_loss: 0.0051\n",
      "Epoch 23/50\n",
      "\u001B[1m16/16\u001B[0m \u001B[32m━━━━━━━━━━━━━━━━━━━━\u001B[0m\u001B[37m\u001B[0m \u001B[1m150s\u001B[0m 7s/step - loss: 0.0069 - val_loss: 0.0058\n",
      "Epoch 24/50\n",
      "\u001B[1m16/16\u001B[0m \u001B[32m━━━━━━━━━━━━━━━━━━━━\u001B[0m\u001B[37m\u001B[0m \u001B[1m140s\u001B[0m 7s/step - loss: 0.0063 - val_loss: 0.0051\n",
      "Epoch 25/50\n",
      "\u001B[1m16/16\u001B[0m \u001B[32m━━━━━━━━━━━━━━━━━━━━\u001B[0m\u001B[37m\u001B[0m \u001B[1m99s\u001B[0m 6s/step - loss: 0.0068 - val_loss: 0.0050\n",
      "Epoch 26/50\n",
      "\u001B[1m16/16\u001B[0m \u001B[32m━━━━━━━━━━━━━━━━━━━━\u001B[0m\u001B[37m\u001B[0m \u001B[1m148s\u001B[0m 7s/step - loss: 0.0069 - val_loss: 0.0054\n",
      "Epoch 27/50\n",
      "\u001B[1m16/16\u001B[0m \u001B[32m━━━━━━━━━━━━━━━━━━━━\u001B[0m\u001B[37m\u001B[0m \u001B[1m135s\u001B[0m 6s/step - loss: 0.0069 - val_loss: 0.0053\n",
      "Epoch 28/50\n",
      "\u001B[1m16/16\u001B[0m \u001B[32m━━━━━━━━━━━━━━━━━━━━\u001B[0m\u001B[37m\u001B[0m \u001B[1m143s\u001B[0m 6s/step - loss: 0.0070 - val_loss: 0.0050\n",
      "Epoch 29/50\n",
      "\u001B[1m16/16\u001B[0m \u001B[32m━━━━━━━━━━━━━━━━━━━━\u001B[0m\u001B[37m\u001B[0m \u001B[1m153s\u001B[0m 7s/step - loss: 0.0074 - val_loss: 0.0050\n",
      "Epoch 30/50\n",
      "\u001B[1m16/16\u001B[0m \u001B[32m━━━━━━━━━━━━━━━━━━━━\u001B[0m\u001B[37m\u001B[0m \u001B[1m97s\u001B[0m 6s/step - loss: 0.0064 - val_loss: 0.0055\n",
      "Epoch 31/50\n",
      "\u001B[1m16/16\u001B[0m \u001B[32m━━━━━━━━━━━━━━━━━━━━\u001B[0m\u001B[37m\u001B[0m \u001B[1m152s\u001B[0m 7s/step - loss: 0.0063 - val_loss: 0.0062\n",
      "Epoch 32/50\n",
      "\u001B[1m16/16\u001B[0m \u001B[32m━━━━━━━━━━━━━━━━━━━━\u001B[0m\u001B[37m\u001B[0m \u001B[1m133s\u001B[0m 6s/step - loss: 0.0067 - val_loss: 0.0060\n",
      "Epoch 33/50\n",
      "\u001B[1m16/16\u001B[0m \u001B[32m━━━━━━━━━━━━━━━━━━━━\u001B[0m\u001B[37m\u001B[0m \u001B[1m152s\u001B[0m 7s/step - loss: 0.0073 - val_loss: 0.0051\n",
      "Epoch 34/50\n",
      "\u001B[1m16/16\u001B[0m \u001B[32m━━━━━━━━━━━━━━━━━━━━\u001B[0m\u001B[37m\u001B[0m \u001B[1m140s\u001B[0m 7s/step - loss: 0.0059 - val_loss: 0.0048\n",
      "Epoch 35/50\n",
      "\u001B[1m16/16\u001B[0m \u001B[32m━━━━━━━━━━━━━━━━━━━━\u001B[0m\u001B[37m\u001B[0m \u001B[1m144s\u001B[0m 7s/step - loss: 0.0065 - val_loss: 0.0058\n",
      "Epoch 36/50\n",
      "\u001B[1m16/16\u001B[0m \u001B[32m━━━━━━━━━━━━━━━━━━━━\u001B[0m\u001B[37m\u001B[0m \u001B[1m131s\u001B[0m 6s/step - loss: 0.0062 - val_loss: 0.0053\n",
      "Epoch 37/50\n",
      "\u001B[1m16/16\u001B[0m \u001B[32m━━━━━━━━━━━━━━━━━━━━\u001B[0m\u001B[37m\u001B[0m \u001B[1m141s\u001B[0m 6s/step - loss: 0.0055 - val_loss: 0.0051\n",
      "Epoch 38/50\n",
      "\u001B[1m16/16\u001B[0m \u001B[32m━━━━━━━━━━━━━━━━━━━━\u001B[0m\u001B[37m\u001B[0m \u001B[1m144s\u001B[0m 6s/step - loss: 0.0061 - val_loss: 0.0055\n",
      "Epoch 39/50\n",
      "\u001B[1m16/16\u001B[0m \u001B[32m━━━━━━━━━━━━━━━━━━━━\u001B[0m\u001B[37m\u001B[0m \u001B[1m104s\u001B[0m 7s/step - loss: 0.0056 - val_loss: 0.0047\n",
      "Epoch 40/50\n",
      "\u001B[1m16/16\u001B[0m \u001B[32m━━━━━━━━━━━━━━━━━━━━\u001B[0m\u001B[37m\u001B[0m \u001B[1m143s\u001B[0m 7s/step - loss: 0.0061 - val_loss: 0.0048\n",
      "Epoch 41/50\n",
      "\u001B[1m16/16\u001B[0m \u001B[32m━━━━━━━━━━━━━━━━━━━━\u001B[0m\u001B[37m\u001B[0m \u001B[1m145s\u001B[0m 7s/step - loss: 0.0057 - val_loss: 0.0046\n",
      "Epoch 42/50\n",
      "\u001B[1m16/16\u001B[0m \u001B[32m━━━━━━━━━━━━━━━━━━━━\u001B[0m\u001B[37m\u001B[0m \u001B[1m97s\u001B[0m 6s/step - loss: 0.0056 - val_loss: 0.0050\n",
      "Epoch 43/50\n",
      "\u001B[1m16/16\u001B[0m \u001B[32m━━━━━━━━━━━━━━━━━━━━\u001B[0m\u001B[37m\u001B[0m \u001B[1m143s\u001B[0m 6s/step - loss: 0.0052 - val_loss: 0.0048\n",
      "Epoch 44/50\n",
      "\u001B[1m16/16\u001B[0m \u001B[32m━━━━━━━━━━━━━━━━━━━━\u001B[0m\u001B[37m\u001B[0m \u001B[1m95s\u001B[0m 6s/step - loss: 0.0065 - val_loss: 0.0045\n",
      "Epoch 45/50\n",
      "\u001B[1m16/16\u001B[0m \u001B[32m━━━━━━━━━━━━━━━━━━━━\u001B[0m\u001B[37m\u001B[0m \u001B[1m152s\u001B[0m 7s/step - loss: 0.0049 - val_loss: 0.0045\n",
      "Epoch 46/50\n",
      "\u001B[1m16/16\u001B[0m \u001B[32m━━━━━━━━━━━━━━━━━━━━\u001B[0m\u001B[37m\u001B[0m \u001B[1m143s\u001B[0m 7s/step - loss: 0.0057 - val_loss: 0.0046\n",
      "Epoch 47/50\n",
      "\u001B[1m16/16\u001B[0m \u001B[32m━━━━━━━━━━━━━━━━━━━━\u001B[0m\u001B[37m\u001B[0m \u001B[1m145s\u001B[0m 7s/step - loss: 0.0065 - val_loss: 0.0046\n",
      "Epoch 48/50\n",
      "\u001B[1m16/16\u001B[0m \u001B[32m━━━━━━━━━━━━━━━━━━━━\u001B[0m\u001B[37m\u001B[0m \u001B[1m97s\u001B[0m 6s/step - loss: 0.0062 - val_loss: 0.0044\n",
      "Epoch 49/50\n",
      "\u001B[1m16/16\u001B[0m \u001B[32m━━━━━━━━━━━━━━━━━━━━\u001B[0m\u001B[37m\u001B[0m \u001B[1m150s\u001B[0m 7s/step - loss: 0.0056 - val_loss: 0.0042\n",
      "Epoch 50/50\n",
      "\u001B[1m16/16\u001B[0m \u001B[32m━━━━━━━━━━━━━━━━━━━━\u001B[0m\u001B[37m\u001B[0m \u001B[1m135s\u001B[0m 6s/step - loss: 0.0057 - val_loss: 0.0045\n"
     ]
    }
   ]
  },
  {
   "cell_type": "code",
   "source": [
    "model.save('./model_50_resnet.keras')"
   ],
   "metadata": {
    "id": "oc_7WqQXGttc"
   },
   "execution_count": null,
   "outputs": []
  },
  {
   "cell_type": "code",
   "source": [
    "model = load_model('./model_50_resnet.keras')\n",
    "y_pred = model.predict(x_test)"
   ],
   "metadata": {
    "id": "DCdIoP4FMzfV",
    "colab": {
     "base_uri": "https://localhost:8080/"
    },
    "outputId": "c81e6822-df4a-467b-8a61-3f6c14718772"
   },
   "execution_count": null,
   "outputs": [
    {
     "output_type": "stream",
     "name": "stdout",
     "text": [
      "\u001B[1m2/2\u001B[0m \u001B[32m━━━━━━━━━━━━━━━━━━━━\u001B[0m\u001B[37m\u001B[0m \u001B[1m16s\u001B[0m 8s/step\n"
     ]
    }
   ]
  },
  {
   "cell_type": "code",
   "source": [
    "for i, a in enumerate(zip(y_pred, y_test)):\n",
    "    x, y = a\n",
    "\n",
    "    xmin, ymin, xmax, ymax = x[0], x[1], x[2], x[3]\n",
    "    xmin, xmax = int(xmin * original_x_test[i].shape[1]), int(xmax * original_x_test[i].shape[1])\n",
    "    ymin, ymax = int(ymin * original_x_test[i].shape[0]), int(ymax * original_x_test[i].shape[0])\n",
    "\n",
    "    box = cv2.rectangle(original_x_test[i], (xmin, ymin), (xmax, ymax), (0, 255, 0), 2)\n",
    "\n",
    "    cv2.imwrite(f'image_{i}.png', box)"
   ],
   "metadata": {
    "id": "3f2K_nkzM4NM"
   },
   "execution_count": null,
   "outputs": []
  }
 ]
}
